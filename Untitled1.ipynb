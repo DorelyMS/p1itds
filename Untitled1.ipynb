{
 "cells": [
  {
   "cell_type": "code",
   "execution_count": null,
   "metadata": {},
   "outputs": [],
   "source": [
    "import pandas as pd"
   ]
  },
  {
   "cell_type": "code",
   "execution_count": null,
   "metadata": {},
   "outputs": [],
   "source": []
  }
 ],
 "metadata": {
  "kernelspec": {
   "display_name": "Environment de ipykernel_p3",
   "language": "python",
   "name": "myipykernel_py3env"
  }
 },
 "nbformat": 4,
 "nbformat_minor": 2
}
